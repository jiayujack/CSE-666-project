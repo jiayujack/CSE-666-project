{
 "cells": [
  {
   "cell_type": "code",
   "execution_count": 2,
   "metadata": {},
   "outputs": [],
   "source": [
    "from wearmask import FaceMasker"
   ]
  },
  {
   "cell_type": "code",
   "execution_count": 4,
   "metadata": {},
   "outputs": [],
   "source": [
    "from wearmask import FaceMasker\n",
    "pic_path=\"../self-built-masked-face-recognition/AFDB_face_dataset/aidai/0_0_aidai_0014.jpg\"\n",
    "mask_path=\"./masks/skin-mask.png\"\n",
    "save_pic_path=\"./result.png\"\n",
    "unmasked_paths = FaceMasker(pic_path, mask_path, True, 'cnn',save_pic_path).mask()"
   ]
  },
  {
   "cell_type": "code",
   "execution_count": null,
   "metadata": {},
   "outputs": [
    {
     "name": "stdout",
     "output_type": "stream",
     "text": [
      "Found no face.../self-built-masked-face-recognition-dataset/add_mask_face_dataset/zhangjie/0_0_zhangjie_0115.jpg\n",
      "Found no face.../self-built-masked-face-recognition-dataset/add_mask_face_dataset/zhangjie/0_0_zhangjie_0122.jpg\n",
      "Found no face.../self-built-masked-face-recognition-dataset/add_mask_face_dataset/zhangjie/0_0_zhangjie_0196.jpg\n",
      "Found no face.../self-built-masked-face-recognition-dataset/add_mask_face_dataset/zhangjie/0_0_zhangjie_0199.jpg\n",
      "Found no face.../self-built-masked-face-recognition-dataset/add_mask_face_dataset/zhangjie/1_0_zhangjie_0133.jpg\n",
      "Found no face.../self-built-masked-face-recognition-dataset/add_mask_face_dataset/zhangjie/1_0_zhangjie_0027.jpg\n",
      "Found no face.../self-built-masked-face-recognition-dataset/add_mask_face_dataset/zhangjie/1_0_zhangjie_0108.jpg\n",
      "Found no face.../self-built-masked-face-recognition-dataset/add_mask_face_dataset/zhangjie/1_0_zhangjie_0175.jpg\n",
      "Found no face.../self-built-masked-face-recognition-dataset/add_mask_face_dataset/zhangjie/0_0_zhangjie_0114.jpg\n",
      "Found no face.../self-built-masked-face-recognition-dataset/add_mask_face_dataset/zhangjie/1_0_zhangjie_0052.jpg\n",
      "Found no face.../self-built-masked-face-recognition-dataset/add_mask_face_dataset/zhangjie/0_0_zhangjie_0161.jpg\n",
      "Found no face.../self-built-masked-face-recognition-dataset/add_mask_face_dataset/zhangjie/1_0_zhangjie_0087.jpg\n",
      "Found no face.../self-built-masked-face-recognition-dataset/add_mask_face_dataset/zhangjie/1_0_zhangjie_0030.jpg\n",
      "Found no face.../self-built-masked-face-recognition-dataset/add_mask_face_dataset/zhangjie/1_0_zhangjie_0143.jpg\n",
      "Found no face.../self-built-masked-face-recognition-dataset/add_mask_face_dataset/zhangjie/0_0_zhangjie_0110.jpg\n",
      "Found no face.../self-built-masked-face-recognition-dataset/add_mask_face_dataset/zhangjie/1_0_zhangjie_0076.jpg\n",
      "Found no face.../self-built-masked-face-recognition-dataset/add_mask_face_dataset/zhangjie/1_0_zhangjie_0035.jpg\n",
      "Found no face.../self-built-masked-face-recognition-dataset/add_mask_face_dataset/zhangjie/1_0_zhangjie_0174.jpg\n",
      "Found no face.../self-built-masked-face-recognition-dataset/add_mask_face_dataset/zhangjie/0_0_zhangjie_0197.jpg\n",
      "Found no face.../self-built-masked-face-recognition-dataset/add_mask_face_dataset/zhangjie/0_0_zhangjie_0202.jpg\n",
      "Found no face.../self-built-masked-face-recognition-dataset/add_mask_face_dataset/qianyongchen/1_0_qianyongchen_0175.jpg\n",
      "Found no face.../self-built-masked-face-recognition-dataset/add_mask_face_dataset/qianyongchen/1_0_qianyongchen_0210.jpg\n",
      "Found no face.../self-built-masked-face-recognition-dataset/add_mask_face_dataset/qianyongchen/1_0_qianyongchen_0228.jpg\n",
      "Found no face.../self-built-masked-face-recognition-dataset/add_mask_face_dataset/wujunyu/0_0_wujunyu_0103.jpg\n",
      "Found no face.../self-built-masked-face-recognition-dataset/add_mask_face_dataset/wujunyu/1_0_wujunyu_0115.jpg\n",
      "Found no face.../self-built-masked-face-recognition-dataset/add_mask_face_dataset/zhangyi/1_0_zhangyi_0131.jpg\n",
      "Found no face.../self-built-masked-face-recognition-dataset/add_mask_face_dataset/zhangyi/1_0_zhangyi_0247.jpg\n",
      "Found no face.../self-built-masked-face-recognition-dataset/add_mask_face_dataset/zhangyi/1_0_zhangyi_0179.jpg\n",
      "Found no face.../self-built-masked-face-recognition-dataset/add_mask_face_dataset/zhangyi/1_0_zhangyi_0269.jpg\n",
      "Found no face.../self-built-masked-face-recognition-dataset/add_mask_face_dataset/jujingyi/0_0_jujingyi_0176.jpg\n",
      "Found no face.../self-built-masked-face-recognition-dataset/add_mask_face_dataset/jujingyi/1_0_jujingyi_0060.jpg\n"
     ]
    }
   ],
   "source": [
    "import os\n",
    "from wearmask import FaceMasker\n",
    "\n",
    "input_dir = \"../self-built-masked-face-recognition/AFDB_face_dataset\"\n",
    "output_dir = \"../self-built-masked-face-recognition/add_mask_face_dataset\"\n",
    "\n",
    "mask_path = \"./masks/skin-mask.png\"\n",
    "\n",
    "for root, dirs, files in os.walk(input_dir):\n",
    "    for file in files:\n",
    "        pic_path = os.path.join(root, file)\n",
    "\n",
    "        relative_path = os.path.relpath(pic_path, input_dir)\n",
    "        save_pic_path = os.path.join(output_dir, relative_path)\n",
    "\n",
    "        os.makedirs(os.path.dirname(save_pic_path), exist_ok=True)\n",
    "\n",
    "        unmasked_paths = FaceMasker(pic_path, mask_path, True, 'cnn',save_pic_path).mask()\n"
   ]
  },
  {
   "cell_type": "code",
   "execution_count": null,
   "metadata": {},
   "outputs": [],
   "source": []
  }
 ],
 "metadata": {
  "kernelspec": {
   "display_name": "ldm",
   "language": "python",
   "name": "ldm"
  },
  "language_info": {
   "codemirror_mode": {
    "name": "ipython",
    "version": 3
   },
   "file_extension": ".py",
   "mimetype": "text/x-python",
   "name": "python",
   "nbconvert_exporter": "python",
   "pygments_lexer": "ipython3",
   "version": "3.8.5"
  }
 },
 "nbformat": 4,
 "nbformat_minor": 2
}
